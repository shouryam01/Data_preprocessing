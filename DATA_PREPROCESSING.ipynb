{
 "cells": [
  {
   "cell_type": "markdown",
   "id": "8850dad1",
   "metadata": {},
   "source": [
    "### DATA PREPROCESSING\n",
    "<!--  Importing And Modifying Dataset -->\n"
   ]
  },
  {
   "cell_type": "code",
   "execution_count": 1,
   "id": "b89b5ce0",
   "metadata": {},
   "outputs": [],
   "source": [
    "import pandas as pd\n",
    "data_set1 = pd.read_csv(\"/Users/shour/Documents/1.1 Data_Set.csv\")"
   ]
  },
  {
   "cell_type": "code",
   "execution_count": 2,
   "id": "da24a055",
   "metadata": {},
   "outputs": [],
   "source": [
    "data_test = pd.read_csv(\"/Users/shour/Documents/1.1 Data_Set.csv\", header = 2)"
   ]
  },
  {
   "cell_type": "code",
   "execution_count": 3,
   "id": "f6d12db1",
   "metadata": {},
   "outputs": [
    {
     "name": "stdout",
     "output_type": "stream",
     "text": [
      "    Time  E_Plug  E_Heat Price  Temperature  No. Occupants\n",
      "0      1    24.0      28    10          -15             12\n",
      "1      2    17.0      32    12          -17             12\n",
      "2      3    16.0      34    11          -19             12\n",
      "3      3    16.0      34    11          -19             12\n",
      "4      4    16.0      33    12          -18             12\n",
      "5      5    16.0      30    10          -14             12\n",
      "6      6    16.0      31    10          -16             12\n",
      "7      7    19.0      28    14          -14             12\n",
      "8      8    22.0      29    12          -15              9\n",
      "9      9    25.0      26    12          -12              8\n",
      "10    10    26.0      24    14           -8              8\n",
      "11    11    27.0      20    14           -4              8\n",
      "12    12    30.0      19    16            0              5\n",
      "13    13    30.0      19    16            0              4\n",
      "14    14     NaN      13    17            2              4\n",
      "15    15    27.0      14    17            3              4\n",
      "16    16    27.0      16    17            2              6\n",
      "17    17    28.0      -4    18            0              8\n",
      "18    18    33.0      26    20           -6              9\n",
      "19    19    42.0      32    21           -8             10\n",
      "20    20   120.0      33    21          -12             12\n",
      "21    21    47.0      32    21          -16             12\n",
      "22    22    44.0      30    22          -18             12\n",
      "23    23    36.0      35     !          -19             12\n",
      "24    24    37.0      36    18          -22             12\n"
     ]
    }
   ],
   "source": [
    "print(data_test)"
   ]
  },
  {
   "cell_type": "markdown",
   "id": "a2f117a0",
   "metadata": {},
   "source": [
    "### Renaming the column name in dataset\n"
   ]
  },
  {
   "cell_type": "code",
   "execution_count": 4,
   "id": "14396a49",
   "metadata": {},
   "outputs": [],
   "source": [
    "Data_set3 = data_test.rename(columns = {'Temperature':'temp'})"
   ]
  },
  {
   "cell_type": "code",
   "execution_count": 5,
   "id": "197c387a",
   "metadata": {},
   "outputs": [
    {
     "name": "stdout",
     "output_type": "stream",
     "text": [
      "    Time  E_Plug  E_Heat Price  temp  No. Occupants\n",
      "0      1    24.0      28    10   -15             12\n",
      "1      2    17.0      32    12   -17             12\n",
      "2      3    16.0      34    11   -19             12\n",
      "3      3    16.0      34    11   -19             12\n",
      "4      4    16.0      33    12   -18             12\n",
      "5      5    16.0      30    10   -14             12\n",
      "6      6    16.0      31    10   -16             12\n",
      "7      7    19.0      28    14   -14             12\n",
      "8      8    22.0      29    12   -15              9\n",
      "9      9    25.0      26    12   -12              8\n",
      "10    10    26.0      24    14    -8              8\n",
      "11    11    27.0      20    14    -4              8\n",
      "12    12    30.0      19    16     0              5\n",
      "13    13    30.0      19    16     0              4\n",
      "14    14     NaN      13    17     2              4\n",
      "15    15    27.0      14    17     3              4\n",
      "16    16    27.0      16    17     2              6\n",
      "17    17    28.0      -4    18     0              8\n",
      "18    18    33.0      26    20    -6              9\n",
      "19    19    42.0      32    21    -8             10\n",
      "20    20   120.0      33    21   -12             12\n",
      "21    21    47.0      32    21   -16             12\n",
      "22    22    44.0      30    22   -18             12\n",
      "23    23    36.0      35     !   -19             12\n",
      "24    24    37.0      36    18   -22             12\n"
     ]
    }
   ],
   "source": [
    "print(Data_set3)"
   ]
  },
  {
   "cell_type": "markdown",
   "id": "c57d1003",
   "metadata": {},
   "source": [
    "### Removing The columns from the DataSet:)"
   ]
  },
  {
   "cell_type": "code",
   "execution_count": 6,
   "id": "fb70cb77",
   "metadata": {},
   "outputs": [],
   "source": [
    "data_set4 = Data_set3.drop('No. Occupants',axis = 1)"
   ]
  },
  {
   "cell_type": "code",
   "execution_count": 7,
   "id": "267a6bb3",
   "metadata": {},
   "outputs": [
    {
     "name": "stdout",
     "output_type": "stream",
     "text": [
      "    Time  E_Plug  E_Heat Price  temp\n",
      "0      1    24.0      28    10   -15\n",
      "1      2    17.0      32    12   -17\n",
      "2      3    16.0      34    11   -19\n",
      "3      3    16.0      34    11   -19\n",
      "4      4    16.0      33    12   -18\n",
      "5      5    16.0      30    10   -14\n",
      "6      6    16.0      31    10   -16\n",
      "7      7    19.0      28    14   -14\n",
      "8      8    22.0      29    12   -15\n",
      "9      9    25.0      26    12   -12\n",
      "10    10    26.0      24    14    -8\n",
      "11    11    27.0      20    14    -4\n",
      "12    12    30.0      19    16     0\n",
      "13    13    30.0      19    16     0\n",
      "14    14     NaN      13    17     2\n",
      "15    15    27.0      14    17     3\n",
      "16    16    27.0      16    17     2\n",
      "17    17    28.0      -4    18     0\n",
      "18    18    33.0      26    20    -6\n",
      "19    19    42.0      32    21    -8\n",
      "20    20   120.0      33    21   -12\n",
      "21    21    47.0      32    21   -16\n",
      "22    22    44.0      30    22   -18\n",
      "23    23    36.0      35     !   -19\n",
      "24    24    37.0      36    18   -22\n"
     ]
    }
   ],
   "source": [
    "print(data_set4)"
   ]
  },
  {
   "cell_type": "markdown",
   "id": "fa8cf371",
   "metadata": {},
   "source": [
    "### Applying Statistics into the dataSet\n",
    "Deleting the similar data in the dataframe"
   ]
  },
  {
   "cell_type": "code",
   "execution_count": 8,
   "id": "c8d45739",
   "metadata": {},
   "outputs": [
    {
     "name": "stdout",
     "output_type": "stream",
     "text": [
      "    Time  E_Plug  E_Heat Price  temp\n",
      "0      1    24.0      28    10   -15\n",
      "1      2    17.0      32    12   -17\n",
      "3      3    16.0      34    11   -19\n",
      "4      4    16.0      33    12   -18\n",
      "5      5    16.0      30    10   -14\n",
      "6      6    16.0      31    10   -16\n",
      "7      7    19.0      28    14   -14\n",
      "8      8    22.0      29    12   -15\n",
      "9      9    25.0      26    12   -12\n",
      "10    10    26.0      24    14    -8\n",
      "11    11    27.0      20    14    -4\n",
      "12    12    30.0      19    16     0\n",
      "13    13    30.0      19    16     0\n",
      "14    14     NaN      13    17     2\n",
      "15    15    27.0      14    17     3\n",
      "16    16    27.0      16    17     2\n",
      "17    17    28.0      -4    18     0\n",
      "18    18    33.0      26    20    -6\n",
      "19    19    42.0      32    21    -8\n",
      "20    20   120.0      33    21   -12\n",
      "21    21    47.0      32    21   -16\n",
      "22    22    44.0      30    22   -18\n",
      "23    23    36.0      35     !   -19\n",
      "24    24    37.0      36    18   -22\n"
     ]
    }
   ],
   "source": [
    "data_set5 = data_set4.drop(2, axis=0)\n",
    "print(data_set5)"
   ]
  },
  {
   "cell_type": "markdown",
   "id": "2ae5d522",
   "metadata": {},
   "source": [
    "#### resetting the index"
   ]
  },
  {
   "cell_type": "code",
   "execution_count": 9,
   "id": "dd68ad3e",
   "metadata": {},
   "outputs": [],
   "source": [
    "data_set6 = data_set5.reset_index(drop=True)"
   ]
  },
  {
   "cell_type": "code",
   "execution_count": 10,
   "id": "3658fb99",
   "metadata": {},
   "outputs": [
    {
     "name": "stdout",
     "output_type": "stream",
     "text": [
      "    Time  E_Plug  E_Heat Price  temp\n",
      "0      1    24.0      28    10   -15\n",
      "1      2    17.0      32    12   -17\n",
      "2      3    16.0      34    11   -19\n",
      "3      4    16.0      33    12   -18\n",
      "4      5    16.0      30    10   -14\n",
      "5      6    16.0      31    10   -16\n",
      "6      7    19.0      28    14   -14\n",
      "7      8    22.0      29    12   -15\n",
      "8      9    25.0      26    12   -12\n",
      "9     10    26.0      24    14    -8\n",
      "10    11    27.0      20    14    -4\n",
      "11    12    30.0      19    16     0\n",
      "12    13    30.0      19    16     0\n",
      "13    14     NaN      13    17     2\n",
      "14    15    27.0      14    17     3\n",
      "15    16    27.0      16    17     2\n",
      "16    17    28.0      -4    18     0\n",
      "17    18    33.0      26    20    -6\n",
      "18    19    42.0      32    21    -8\n",
      "19    20   120.0      33    21   -12\n",
      "20    21    47.0      32    21   -16\n",
      "21    22    44.0      30    22   -18\n",
      "22    23    36.0      35     !   -19\n",
      "23    24    37.0      36    18   -22\n"
     ]
    }
   ],
   "source": [
    "print(data_set6)"
   ]
  },
  {
   "cell_type": "code",
   "execution_count": 11,
   "id": "e8d9be14",
   "metadata": {},
   "outputs": [
    {
     "data": {
      "text/html": [
       "<div>\n",
       "<style scoped>\n",
       "    .dataframe tbody tr th:only-of-type {\n",
       "        vertical-align: middle;\n",
       "    }\n",
       "\n",
       "    .dataframe tbody tr th {\n",
       "        vertical-align: top;\n",
       "    }\n",
       "\n",
       "    .dataframe thead th {\n",
       "        text-align: right;\n",
       "    }\n",
       "</style>\n",
       "<table border=\"1\" class=\"dataframe\">\n",
       "  <thead>\n",
       "    <tr style=\"text-align: right;\">\n",
       "      <th></th>\n",
       "      <th>Time</th>\n",
       "      <th>E_Plug</th>\n",
       "      <th>E_Heat</th>\n",
       "      <th>temp</th>\n",
       "    </tr>\n",
       "  </thead>\n",
       "  <tbody>\n",
       "    <tr>\n",
       "      <th>count</th>\n",
       "      <td>24.000000</td>\n",
       "      <td>23.000000</td>\n",
       "      <td>24.000000</td>\n",
       "      <td>24.000000</td>\n",
       "    </tr>\n",
       "    <tr>\n",
       "      <th>mean</th>\n",
       "      <td>12.500000</td>\n",
       "      <td>31.521739</td>\n",
       "      <td>25.666667</td>\n",
       "      <td>-10.250000</td>\n",
       "    </tr>\n",
       "    <tr>\n",
       "      <th>std</th>\n",
       "      <td>7.071068</td>\n",
       "      <td>21.336843</td>\n",
       "      <td>9.262672</td>\n",
       "      <td>7.968689</td>\n",
       "    </tr>\n",
       "    <tr>\n",
       "      <th>min</th>\n",
       "      <td>1.000000</td>\n",
       "      <td>16.000000</td>\n",
       "      <td>-4.000000</td>\n",
       "      <td>-22.000000</td>\n",
       "    </tr>\n",
       "    <tr>\n",
       "      <th>25%</th>\n",
       "      <td>6.750000</td>\n",
       "      <td>20.500000</td>\n",
       "      <td>19.750000</td>\n",
       "      <td>-16.250000</td>\n",
       "    </tr>\n",
       "    <tr>\n",
       "      <th>50%</th>\n",
       "      <td>12.500000</td>\n",
       "      <td>27.000000</td>\n",
       "      <td>28.500000</td>\n",
       "      <td>-13.000000</td>\n",
       "    </tr>\n",
       "    <tr>\n",
       "      <th>75%</th>\n",
       "      <td>18.250000</td>\n",
       "      <td>34.500000</td>\n",
       "      <td>32.000000</td>\n",
       "      <td>-3.000000</td>\n",
       "    </tr>\n",
       "    <tr>\n",
       "      <th>max</th>\n",
       "      <td>24.000000</td>\n",
       "      <td>120.000000</td>\n",
       "      <td>36.000000</td>\n",
       "      <td>3.000000</td>\n",
       "    </tr>\n",
       "  </tbody>\n",
       "</table>\n",
       "</div>"
      ],
      "text/plain": [
       "            Time      E_Plug     E_Heat       temp\n",
       "count  24.000000   23.000000  24.000000  24.000000\n",
       "mean   12.500000   31.521739  25.666667 -10.250000\n",
       "std     7.071068   21.336843   9.262672   7.968689\n",
       "min     1.000000   16.000000  -4.000000 -22.000000\n",
       "25%     6.750000   20.500000  19.750000 -16.250000\n",
       "50%    12.500000   27.000000  28.500000 -13.000000\n",
       "75%    18.250000   34.500000  32.000000  -3.000000\n",
       "max    24.000000  120.000000  36.000000   3.000000"
      ]
     },
     "execution_count": 11,
     "metadata": {},
     "output_type": "execute_result"
    }
   ],
   "source": [
    "data_set6.describe()"
   ]
  },
  {
   "cell_type": "markdown",
   "id": "9f9bb992",
   "metadata": {},
   "source": [
    "### Finding the data inside the datasets"
   ]
  },
  {
   "cell_type": "markdown",
   "id": "be9b2895",
   "metadata": {},
   "source": [
    "### To spot the number we have to create a variable min_item and find the minimum number for this."
   ]
  },
  {
   "cell_type": "code",
   "execution_count": 12,
   "id": "be220585",
   "metadata": {},
   "outputs": [],
   "source": [
    "Min_item = data_set6['E_Heat'].min()"
   ]
  },
  {
   "cell_type": "code",
   "execution_count": 13,
   "id": "20dc11c2",
   "metadata": {},
   "outputs": [
    {
     "name": "stdout",
     "output_type": "stream",
     "text": [
      "-4\n"
     ]
    }
   ],
   "source": [
    "print(Min_item)"
   ]
  },
  {
   "cell_type": "markdown",
   "id": "05324492",
   "metadata": {},
   "source": [
    "### Now locating it\n",
    "### First Go to the E-heat column and then, give me the number of E-Heat which is equals to Min_items."
   ]
  },
  {
   "cell_type": "code",
   "execution_count": 14,
   "id": "b6ed9e94",
   "metadata": {},
   "outputs": [
    {
     "data": {
      "text/plain": [
       "16   -4\n",
       "Name: E_Heat, dtype: int64"
      ]
     },
     "execution_count": 14,
     "metadata": {},
     "output_type": "execute_result"
    }
   ],
   "source": [
    "data_set6['E_Heat'][data_set6['E_Heat'] == Min_item]"
   ]
  },
  {
   "cell_type": "markdown",
   "id": "25b7bfdc",
   "metadata": {},
   "source": [
    "## replace some numbers in panda"
   ]
  },
  {
   "cell_type": "code",
   "execution_count": 15,
   "id": "0db348d9",
   "metadata": {},
   "outputs": [],
   "source": [
    "data_set6['E_Heat'].replace(-4,21, inplace = True)"
   ]
  },
  {
   "cell_type": "code",
   "execution_count": 16,
   "id": "ad8df5d9",
   "metadata": {},
   "outputs": [
    {
     "name": "stdout",
     "output_type": "stream",
     "text": [
      "    Time  E_Plug  E_Heat Price  temp\n",
      "0      1    24.0      28    10   -15\n",
      "1      2    17.0      32    12   -17\n",
      "2      3    16.0      34    11   -19\n",
      "3      4    16.0      33    12   -18\n",
      "4      5    16.0      30    10   -14\n",
      "5      6    16.0      31    10   -16\n",
      "6      7    19.0      28    14   -14\n",
      "7      8    22.0      29    12   -15\n",
      "8      9    25.0      26    12   -12\n",
      "9     10    26.0      24    14    -8\n",
      "10    11    27.0      20    14    -4\n",
      "11    12    30.0      19    16     0\n",
      "12    13    30.0      19    16     0\n",
      "13    14     NaN      13    17     2\n",
      "14    15    27.0      14    17     3\n",
      "15    16    27.0      16    17     2\n",
      "16    17    28.0      21    18     0\n",
      "17    18    33.0      26    20    -6\n",
      "18    19    42.0      32    21    -8\n",
      "19    20   120.0      33    21   -12\n",
      "20    21    47.0      32    21   -16\n",
      "21    22    44.0      30    22   -18\n",
      "22    23    36.0      35     !   -19\n",
      "23    24    37.0      36    18   -22\n"
     ]
    }
   ],
   "source": [
    "print(data_set6)"
   ]
  },
  {
   "cell_type": "raw",
   "id": "e6957db8",
   "metadata": {},
   "source": []
  },
  {
   "cell_type": "markdown",
   "id": "e0b73dff",
   "metadata": {},
   "source": [
    "### Covariance "
   ]
  },
  {
   "cell_type": "code",
   "execution_count": 18,
   "id": "80fa7234",
   "metadata": {},
   "outputs": [
    {
     "data": {
      "text/html": [
       "<div>\n",
       "<style scoped>\n",
       "    .dataframe tbody tr th:only-of-type {\n",
       "        vertical-align: middle;\n",
       "    }\n",
       "\n",
       "    .dataframe tbody tr th {\n",
       "        vertical-align: top;\n",
       "    }\n",
       "\n",
       "    .dataframe thead th {\n",
       "        text-align: right;\n",
       "    }\n",
       "</style>\n",
       "<table border=\"1\" class=\"dataframe\">\n",
       "  <thead>\n",
       "    <tr style=\"text-align: right;\">\n",
       "      <th></th>\n",
       "      <th>Time</th>\n",
       "      <th>E_Plug</th>\n",
       "      <th>E_Heat</th>\n",
       "      <th>temp</th>\n",
       "    </tr>\n",
       "  </thead>\n",
       "  <tbody>\n",
       "    <tr>\n",
       "      <th>Time</th>\n",
       "      <td>50.000000</td>\n",
       "      <td>88.535573</td>\n",
       "      <td>-0.500000</td>\n",
       "      <td>8.217391</td>\n",
       "    </tr>\n",
       "    <tr>\n",
       "      <th>E_Plug</th>\n",
       "      <td>88.535573</td>\n",
       "      <td>455.260870</td>\n",
       "      <td>25.833992</td>\n",
       "      <td>0.154150</td>\n",
       "    </tr>\n",
       "    <tr>\n",
       "      <th>E_Heat</th>\n",
       "      <td>-0.500000</td>\n",
       "      <td>25.833992</td>\n",
       "      <td>47.346014</td>\n",
       "      <td>-51.206522</td>\n",
       "    </tr>\n",
       "    <tr>\n",
       "      <th>temp</th>\n",
       "      <td>8.217391</td>\n",
       "      <td>0.154150</td>\n",
       "      <td>-51.206522</td>\n",
       "      <td>63.500000</td>\n",
       "    </tr>\n",
       "  </tbody>\n",
       "</table>\n",
       "</div>"
      ],
      "text/plain": [
       "             Time      E_Plug     E_Heat       temp\n",
       "Time    50.000000   88.535573  -0.500000   8.217391\n",
       "E_Plug  88.535573  455.260870  25.833992   0.154150\n",
       "E_Heat  -0.500000   25.833992  47.346014 -51.206522\n",
       "temp     8.217391    0.154150 -51.206522  63.500000"
      ]
     },
     "execution_count": 18,
     "metadata": {},
     "output_type": "execute_result"
    }
   ],
   "source": [
    "data_set6.cov()"
   ]
  },
  {
   "cell_type": "markdown",
   "id": "ba6ff638",
   "metadata": {},
   "source": [
    "### Visualization of the covariances"
   ]
  },
  {
   "cell_type": "code",
   "execution_count": 19,
   "id": "def111ac",
   "metadata": {},
   "outputs": [],
   "source": [
    "import seaborn as sn"
   ]
  },
  {
   "cell_type": "code",
   "execution_count": 20,
   "id": "2e3d4b0a",
   "metadata": {},
   "outputs": [
    {
     "data": {
      "text/plain": [
       "<AxesSubplot:>"
      ]
     },
     "execution_count": 20,
     "metadata": {},
     "output_type": "execute_result"
    },
    {
     "data": {
      "image/png": "[encoded data removed]",
      "text/plain": [
       "<Figure size 432x288 with 2 Axes>"
      ]
     },
     "metadata": {
      "needs_background": "light"
     },
     "output_type": "display_data"
    }
   ],
   "source": [
    "sn.heatmap(data_set6.corr())"
   ]
  },
  {
   "cell_type": "code",
   "execution_count": null,
   "id": "a4830df1",
   "metadata": {},
   "outputs": [],
   "source": [
    " "
   ]
  }
 ],
 "metadata": {
  "kernelspec": {
   "display_name": "Python 3",
   "language": "python",
   "name": "python3"
  },
  "language_info": {
   "codemirror_mode": {
    "name": "ipython",
    "version": 3
   },
   "file_extension": ".py",
   "mimetype": "text/x-python",
   "name": "python",
   "nbconvert_exporter": "python",
   "pygments_lexer": "ipython3",
   "version": "3.8.8"
  }
 },
 "nbformat": 4,
 "nbformat_minor": 5
}
